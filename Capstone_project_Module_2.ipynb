{
  "nbformat": 4,
  "nbformat_minor": 0,
  "metadata": {
    "colab": {
      "private_outputs": true,
      "provenance": [],
      "collapsed_sections": [
        "mDgbUHAGgjLW",
        "Y3lxredqlCYt",
        "0wOQAZs5pc--",
        "lQ7QKXXCp7Bj",
        "448CDAPjqfQr",
        "KSlN3yHqYklG",
        "t6dVpIINYklI",
        "ijmpgYnKYklI",
        "-JiQyfWJYklI",
        "EM7whBJCYoAo",
        "fge-S5ZAYoAp",
        "85gYPyotYoAp",
        "RoGjAbkUYoAp",
        "4Of9eVA-YrdM",
        "iky9q4vBYrdO",
        "F6T5p64dYrdO",
        "bamQiAODYuh1",
        "OH-pJp9IphqM",
        "gIfDvo9L0UH2"
      ]
    },
    "kernelspec": {
      "name": "python3",
      "display_name": "Python 3"
    },
    "language_info": {
      "name": "python"
    }
  },
  "cells": [
    {
      "cell_type": "markdown",
      "source": [
        "# **Project Name**    -\n",
        "\n"
      ],
      "metadata": {
        "id": "vncDsAP0Gaoa"
      }
    },
    {
      "cell_type": "markdown",
      "source": [
        "##### **Project Type**    - Exploratory Data Analysis\n",
        "##### **Contribution**    - Individual\n",
        "\n"
      ],
      "metadata": {
        "id": "beRrZCGUAJYm"
      }
    },
    {
      "cell_type": "markdown",
      "source": [
        "# **Project Summary -**"
      ],
      "metadata": {
        "id": "FJNUwmbgGyua"
      }
    },
    {
      "cell_type": "markdown",
      "source": [
        "## HOTEL BOOKINGS\n",
        "\n",
        "  In Hotels, it is important to keep track of all the customers who use their service, how their stay was, and if their stay was satisfactory.\n",
        "  \n",
        "  To do that, it is important to know how the customers came to know about their hotel, through which medium they booked their rooms, if they had any previous cancellations, if they had made any requests, etc, to make sure their needs are met for better customer experiance.\n",
        "\n",
        "  In that regard, I will be collecting and analysing the data to help understand the type of customers staying at the hotel and how can we use the data to help the hotel understand how to help their customers better."
      ],
      "metadata": {
        "id": "F6v_1wHtG2nS"
      }
    },
    {
      "cell_type": "markdown",
      "source": [
        "# **GitHub Link -**"
      ],
      "metadata": {
        "id": "w6K7xa23Elo4"
      }
    },
    {
      "cell_type": "markdown",
      "source": [
        "[Link to Github](https://github.com/AgathianDevaraj/Capstone)"
      ],
      "metadata": {
        "id": "h1o69JH3Eqqn"
      }
    },
    {
      "cell_type": "markdown",
      "source": [
        "# **Problem Statement**\n"
      ],
      "metadata": {
        "id": "yQaldy8SH6Dl"
      }
    },
    {
      "cell_type": "markdown",
      "source": [
        "**The idea is to make sense of the abundant data available and help the Hotel understand what their customer base is, and what could the hotel expect based on the already existing booking data.**"
      ],
      "metadata": {
        "id": "DpeJGUA3kjGy"
      }
    },
    {
      "cell_type": "markdown",
      "source": [
        "# **General Guidelines** : -  "
      ],
      "metadata": {
        "id": "mDgbUHAGgjLW"
      }
    },
    {
      "cell_type": "markdown",
      "source": [
        "1.   Well-structured, formatted, and commented code is required.\n",
        "2.   Exception Handling, Production Grade Code & Deployment Ready Code will be a plus. Those students will be awarded some additional credits.\n",
        "     \n",
        "     The additional credits will have advantages over other students during Star Student selection.\n",
        "       \n",
        "             [ Note: - Deployment Ready Code is defined as, the whole .ipynb notebook should be executable in one go\n",
        "                       without a single error logged. ]\n",
        "\n",
        "3.   Each and every logic should have proper comments.\n",
        "4. You may add as many number of charts you want. Make Sure for each and every chart the following format should be answered.\n",
        "        \n",
        "\n",
        "```\n",
        "# Chart visualization code\n",
        "```\n",
        "            \n",
        "\n",
        "*   Why did you pick the specific chart?\n",
        "*   What is/are the insight(s) found from the chart?\n",
        "* Will the gained insights help creating a positive business impact?\n",
        "Are there any insights that lead to negative growth? Justify with specific reason.\n",
        "\n",
        "5. You have to create at least 15 logical & meaningful charts having important insights.\n",
        "\n",
        "\n",
        "[ Hints : - Do the Vizualization in  a structured way while following \"UBM\" Rule.\n",
        "\n",
        "U - Univariate Analysis,\n",
        "\n",
        "B - Bivariate Analysis (Numerical - Categorical, Numerical - Numerical, Categorical - Categorical)\n",
        "\n",
        "M - Multivariate Analysis\n",
        " ]\n",
        "\n",
        "\n",
        "\n",
        "\n",
        "\n",
        "6. You may add more ml algorithms for model creation. Make sure for each and every algorithm, the following format should be answered.\n",
        "\n",
        "\n",
        "*   Explain the ML Model used and it's performance using Evaluation metric Score Chart.\n",
        "\n",
        "\n",
        "*   Cross- Validation & Hyperparameter Tuning\n",
        "\n",
        "*   Have you seen any improvement? Note down the improvement with updates Evaluation metric Score Chart.\n",
        "\n",
        "*   Explain each evaluation metric's indication towards business and the business impact pf the ML model used.\n",
        "\n",
        "\n",
        "\n",
        "\n",
        "\n",
        "\n",
        "\n",
        "\n",
        "\n",
        "\n",
        "\n",
        "\n",
        "\n",
        "\n",
        "\n",
        "\n",
        "\n",
        "\n"
      ],
      "metadata": {
        "id": "ZrxVaUj-hHfC"
      }
    },
    {
      "cell_type": "markdown",
      "source": [
        "# ***Let's Begin !***"
      ],
      "metadata": {
        "id": "O_i_v8NEhb9l"
      }
    },
    {
      "cell_type": "markdown",
      "source": [
        "## ***1. Know Your Data***"
      ],
      "metadata": {
        "id": "HhfV-JJviCcP"
      }
    },
    {
      "cell_type": "markdown",
      "source": [
        "### Import Libraries"
      ],
      "metadata": {
        "id": "Y3lxredqlCYt"
      }
    },
    {
      "cell_type": "code",
      "source": [
        "# Import Libraries\n",
        "\n",
        "# The basic ones\n",
        "import pandas as pd\n",
        "import requests as r\n",
        "import numpy as np\n",
        "\n",
        "# The ones for visualization\n",
        "import matplotlib.pyplot as plt\n",
        "import seaborn as sns\n"
      ],
      "metadata": {
        "id": "M8Vqi-pPk-HR"
      },
      "execution_count": null,
      "outputs": []
    },
    {
      "cell_type": "markdown",
      "source": [
        "### Dataset Loading"
      ],
      "metadata": {
        "id": "3RnN4peoiCZX"
      }
    },
    {
      "cell_type": "code",
      "source": [
        "# Load Dataset\n",
        "\n",
        "dataframe = pd.read_csv('https://raw.githubusercontent.com/AgathianDevaraj/Capstone/main/Hotel-Bookings.csv', index_col=0)\n",
        "\n",
        "# You can also assign temporary alias to assign url to make it less of a cluster\n",
        "# Example:\n",
        "\n",
        "# url = 'https://www.youtube.com'\n",
        "# df = pd.read_csv(url)"
      ],
      "metadata": {
        "id": "4CkvbW_SlZ_R"
      },
      "execution_count": null,
      "outputs": []
    },
    {
      "cell_type": "markdown",
      "source": [
        "### Dataset First View"
      ],
      "metadata": {
        "id": "x71ZqKXriCWQ"
      }
    },
    {
      "cell_type": "code",
      "source": [
        "# Dataset First Look\n",
        "\n",
        "dataframe.head( )"
      ],
      "metadata": {
        "id": "LWNFOSvLl09H"
      },
      "execution_count": null,
      "outputs": []
    },
    {
      "cell_type": "markdown",
      "source": [
        "### Dataset Rows & Columns count"
      ],
      "metadata": {
        "id": "7hBIi_osiCS2"
      }
    },
    {
      "cell_type": "code",
      "source": [
        "# Rows and columns count\n",
        "\n",
        "dataframe.shape"
      ],
      "metadata": {
        "id": "aueg3dHY0EfF"
      },
      "execution_count": null,
      "outputs": []
    },
    {
      "cell_type": "markdown",
      "source": [
        "### Dataset Information"
      ],
      "metadata": {
        "id": "JlHwYmJAmNHm"
      }
    },
    {
      "cell_type": "code",
      "source": [
        "# Dataset Info\n",
        "\n",
        "# Learn all basic info about the table using .info()\n",
        "# It shows the column list, datatypes in the columns, and the non null count of the content as well\n",
        "\n",
        "dataframe.info()"
      ],
      "metadata": {
        "id": "e9hRXRi6meOf"
      },
      "execution_count": null,
      "outputs": []
    },
    {
      "cell_type": "markdown",
      "source": [
        "#### Duplicate Values"
      ],
      "metadata": {
        "id": "35m5QtbWiB9F"
      }
    },
    {
      "cell_type": "code",
      "source": [
        "# Dataset Duplicate Value Count\n",
        "\n",
        "len(dataframe[dataframe.duplicated()])\n"
      ],
      "metadata": {
        "id": "1sLdpKYkmox0"
      },
      "execution_count": null,
      "outputs": []
    },
    {
      "cell_type": "markdown",
      "source": [
        "#### Missing Values/Null Values"
      ],
      "metadata": {
        "id": "PoPl-ycgm1ru"
      }
    },
    {
      "cell_type": "code",
      "source": [
        "# Missing Values/Null Values Count\n",
        "\n",
        "# To get bool results of where the null values are, use .isnull()\n",
        "# As we need count as well, we sum up all the true results for every column and return it.\n",
        "\n",
        "dataframe.isnull().sum()"
      ],
      "metadata": {
        "id": "GgHWkxvamxVg"
      },
      "execution_count": null,
      "outputs": []
    },
    {
      "cell_type": "code",
      "source": [
        "# Visualizing the missing values\n",
        "\n",
        "plt.barh(width = dataframe.isnull().sum().drop_duplicates(),\n",
        "         y = dataframe.isnull().sum().drop_duplicates().index)\n",
        "\n",
        "plt.xlabel('Number of Null values')\n",
        "plt.ylabel('Columns with Null values')\n",
        "\n",
        "plt.title('Null Values in data')\n",
        "\n",
        "plt.show()"
      ],
      "metadata": {
        "id": "3q5wnI3om9sJ"
      },
      "execution_count": null,
      "outputs": []
    },
    {
      "cell_type": "code",
      "source": [
        "\n",
        "# Replace the null values with the number 0\n",
        "\n",
        "dataframe['company'].fillna(0,inplace = True)\n",
        "dataframe['agent'].fillna(0,inplace = True)\n",
        "dataframe['children'].fillna(0,inplace = True)"
      ],
      "metadata": {
        "id": "t_ywdh_AEhhH"
      },
      "execution_count": null,
      "outputs": []
    },
    {
      "cell_type": "markdown",
      "source": [
        "### What did you know about your dataset?"
      ],
      "metadata": {
        "id": "H0kj-8xxnORC"
      }
    },
    {
      "cell_type": "markdown",
      "source": [
        "From the bookings dataset, we have learnt about the date available about various factors from the customers' reservation details to cancellation details and everything inbetween. We also know from the missing data in the dataset, that some data required are optional.\n",
        "\n",
        "From the missing info we learned that the customers do not specify if they're at the hotel through their company, so we can assume that these are not business stays. Some data have missing agent info, so we can assume they didn't have agents book the hotel for them, etc.\n",
        "\n",
        "We'll for sure learn more as the data analysis progresses further."
      ],
      "metadata": {
        "id": "gfoNAAC-nUe_"
      }
    },
    {
      "cell_type": "markdown",
      "source": [
        "## ***2. Understanding Your Variables***"
      ],
      "metadata": {
        "id": "nA9Y7ga8ng1Z"
      }
    },
    {
      "cell_type": "code",
      "source": [
        "# Dataset Columns\n",
        "\n",
        "# Get the names of the columns using .columns\n",
        "\n",
        "dataframe.reset_index(inplace = True)\n",
        "dataframe.columns"
      ],
      "metadata": {
        "id": "j7xfkqrt5Ag5"
      },
      "execution_count": null,
      "outputs": []
    },
    {
      "cell_type": "code",
      "source": [
        "# Dataset Describe\n",
        "\n",
        "# Learn what type of data and the distribution of the same using .describe()\n",
        "\n",
        "dataframe.describe()"
      ],
      "metadata": {
        "id": "DnOaZdaE5Q5t"
      },
      "execution_count": null,
      "outputs": []
    },
    {
      "cell_type": "markdown",
      "source": [
        "### Variables Description"
      ],
      "metadata": {
        "id": "PBTbrJXOngz2"
      }
    },
    {
      "cell_type": "markdown",
      "source": [
        "* **is_canceled**                -   Whether the booking was canceled or not\n",
        "* **lead_time**                  -   days leading up to the stay\n",
        "* **arrival_date_year**  - Year of arrival\n",
        "* **arrival_date_month** - Month of arrival\n",
        "* **arrival_date_week_number** - Week of the year of arrival\n",
        "* **arrival_date_day_of_month** - Day of arrival\n",
        "* **stays_in_weekend_nights** - Whether staying in weekend nights or not\n",
        "* **stays_in_week_nights** - Whether staying in week nights or not\n",
        "* **adults** - Number of adults\n",
        "* **children** - Number of children\n",
        "* **babies** - Number of babies\n",
        "* **meal** - Meals requested or not\n",
        "* **country** - Country of origin\n",
        "* **market_segment** - Market segment\n",
        "* **distribution_channel** - Distribution channel\n",
        "* **is_repeated_guest** - Repeated guest or not\n",
        "* **previous_cancellations** - Whether they had previous cancellation or not\n",
        "* **previous_bookings_not_canceled** - Number of previous bookings that were not cancelled\n",
        "* **reserved_room_type** - Type of room reserved\n",
        "* **assigned_room_type** - Type of room received\n",
        "* **booking_changes** - Whether the booking was changed\n",
        "* **deposit_type** - Type of deposit made\n",
        "* **agent** - Whether agent was used or not\n",
        "* **company** - Reserved through company or not\n",
        "* **days_in_waiting_list** - Days customer spent on the waiting list\n",
        "* **customer_type** - Customer type\n",
        "* **adr** - Average Daily Rate\n",
        "* **required_car_parking_spaces** - Number of car parking spaces required\n",
        "* **total_of_special_requests** - Number of speial requests placed\n",
        "* **reservation_status** - Status of reservation\n",
        "* **reservation_status_date** - Date the status of reservation was updated"
      ],
      "metadata": {
        "id": "aJV4KIxSnxay"
      }
    },
    {
      "cell_type": "markdown",
      "source": [
        "### Check Unique Values for each variable."
      ],
      "metadata": {
        "id": "u3PMJOP6ngxN"
      }
    },
    {
      "cell_type": "code",
      "source": [
        "# Check Unique Values for each variable.\n",
        "\n",
        "for data in dataframe.columns:\n",
        "  print(\"Number of unique values in \",data,\" is \",dataframe[data].nunique())"
      ],
      "metadata": {
        "id": "zms12Yq5n-jE"
      },
      "execution_count": null,
      "outputs": []
    },
    {
      "cell_type": "markdown",
      "source": [
        "## 3. ***Data Wrangling***"
      ],
      "metadata": {
        "id": "dauF4eBmngu3"
      }
    },
    {
      "cell_type": "markdown",
      "source": [
        "### Data Wrangling Code"
      ],
      "metadata": {
        "id": "bKJF3rekwFvQ"
      }
    },
    {
      "cell_type": "code",
      "source": [
        "# Write your code to make your dataset analysis ready.\n",
        "\n",
        "# Makign sense of at what time of the year the booking is good\n",
        "\n",
        "df_month = dataframe.groupby('arrival_date_month')['arrival_date_year'].value_counts()\n",
        "print(df_month)"
      ],
      "metadata": {
        "id": "wk-9a2fpoLcV",
        "collapsed": true
      },
      "execution_count": null,
      "outputs": []
    },
    {
      "cell_type": "code",
      "source": [
        "# Doing the same for the corporate bookings\n",
        "\n",
        "df_corporate = dataframe[dataframe['distribution_channel']=='Corporate']\n",
        "df_corporate.groupby('arrival_date_month')['arrival_date_year'].value_counts()"
      ],
      "metadata": {
        "collapsed": true,
        "id": "L_ms_vwjHM5X"
      },
      "execution_count": null,
      "outputs": []
    },
    {
      "cell_type": "code",
      "source": [
        "# Checking to see if there is any repeated guest in customer type\n",
        "\n",
        "df_corporate.groupby('customer_type')['is_repeated_guest'].value_counts()"
      ],
      "metadata": {
        "collapsed": true,
        "id": "XkxZvxyGHag-"
      },
      "execution_count": null,
      "outputs": []
    },
    {
      "cell_type": "code",
      "source": [
        "# Checking to see if the customers travelling with their kids requesting for parking spaces\n",
        "\n",
        "dataframe.groupby('children')['required_car_parking_spaces'].value_counts()"
      ],
      "metadata": {
        "collapsed": true,
        "id": "4gUaBkIlL5Cu"
      },
      "execution_count": null,
      "outputs": []
    },
    {
      "cell_type": "code",
      "source": [
        "# Checking to see if cancellation has a pattern based on deposit type selected\n",
        "\n",
        "dataframe.groupby('deposit_type')['is_canceled'].value_counts()"
      ],
      "metadata": {
        "id": "DHdZqMqcfYmY"
      },
      "execution_count": null,
      "outputs": []
    },
    {
      "cell_type": "code",
      "source": [
        "# Getting numbers for the canceled bookings\n",
        "\n",
        "canceled = dataframe[dataframe['is_canceled']==1]\n",
        "can = canceled.groupby('deposit_type')['deposit_type'].value_counts()\n",
        "\n",
        "for i in can.index:\n",
        "  print('The number of cancellations if the deposit type is \"',i,'\" is ',can[i])"
      ],
      "metadata": {
        "id": "au8pCWb4d8zF"
      },
      "execution_count": null,
      "outputs": []
    },
    {
      "cell_type": "code",
      "source": [
        "# Checking to see if the corporate guests were repeat guests and also their reservation status\n",
        "\n",
        "df_corporate.groupby('is_repeated_guest')['reservation_status'].value_counts()"
      ],
      "metadata": {
        "id": "1BlMi1muPGPk"
      },
      "execution_count": null,
      "outputs": []
    },
    {
      "cell_type": "code",
      "source": [
        "# Checking to see if bringing children makes the customers request anything special\n",
        "\n",
        "spl = dataframe[(dataframe['children'] > 0)].groupby('total_of_special_requests')['total_of_special_requests'].value_counts().head(3)\n",
        "\n",
        "for i in range(3):\n",
        "  print(' Number of people made ',i,' special requests when children are involved is ',spl[i])\n"
      ],
      "metadata": {
        "id": "Rb9Rs8hdXsdI"
      },
      "execution_count": null,
      "outputs": []
    },
    {
      "cell_type": "code",
      "source": [
        "dataframe['days_in_waiting_list'].max()"
      ],
      "metadata": {
        "id": "ve1-vHXqs3CG"
      },
      "execution_count": null,
      "outputs": []
    },
    {
      "cell_type": "code",
      "source": [
        "dataframe['days_in_waiting_list'].mean()"
      ],
      "metadata": {
        "id": "XIRnqsZutCgX"
      },
      "execution_count": null,
      "outputs": []
    },
    {
      "cell_type": "code",
      "source": [
        "# Checking the waiting list details to see if that has anything to do with cancellations\n",
        "\n",
        "dataframe[dataframe['customer_type']=='Group'].groupby('days_in_waiting_list')['days_in_waiting_list'].value_counts()"
      ],
      "metadata": {
        "id": "Zb4qvgrji4ZW"
      },
      "execution_count": null,
      "outputs": []
    },
    {
      "cell_type": "markdown",
      "source": [
        "### What all manipulations have you done and insights you found?"
      ],
      "metadata": {
        "id": "MSa1f5Uengrz"
      }
    },
    {
      "cell_type": "markdown",
      "source": [
        "From the data manipulation, we can see that:\n",
        "\n",
        "* The bookings are comparitively lower in January and February months but significantly higher in May and June.\n",
        "* Bookings for corporate reservations were done the most in October and November\n",
        "* Based on the data, it seems, no matter what the customer type is, the repeated bookings are very low.\n",
        "* The weird part about cancellation is that when there was no deposit made for reservation the cancellation was done for about 25% of the time, but when there was a non-refundable reservation, the cancellation was at 99%\n",
        "* Repeated guests have higher cancellation trend than the regular guests\n",
        "* While there are a couple special requests made by guests when children are involved, many people did not request for specials.\n",
        "* The wait time for reservation can go up to 390 days, but it averages to only 2 days. When booked as a group, there is almost no waiting time."
      ],
      "metadata": {
        "id": "LbyXE7I1olp8"
      }
    },
    {
      "cell_type": "markdown",
      "source": [
        "## ***4. Data Vizualization, Storytelling & Experimenting with charts : Understand the relationships between variables***"
      ],
      "metadata": {
        "id": "GF8Ens_Soomf"
      }
    },
    {
      "cell_type": "markdown",
      "source": [
        "#### Chart - 1"
      ],
      "metadata": {
        "id": "0wOQAZs5pc--"
      }
    },
    {
      "cell_type": "code",
      "source": [
        "# Chart - 1 visualization code\n",
        "\n",
        "customer = dataframe.groupby('customer_type')['customer_type'].value_counts()\n",
        "\n",
        "# Charting a pie chart\n",
        "\n",
        "plt.pie(\n",
        "    x = customer ,\n",
        "    labels = customer.index,\n",
        "    autopct=\"%1.1f%%\",\n",
        "    shadow = True\n",
        ")\n",
        "\n",
        "plt.title('Types of customers')\n",
        "plt.show()"
      ],
      "metadata": {
        "id": "7v_ESjsspbW7"
      },
      "execution_count": null,
      "outputs": []
    },
    {
      "cell_type": "markdown",
      "source": [
        "##### 1. Why did you pick the specific chart?"
      ],
      "metadata": {
        "id": "K5QZ13OEpz2H"
      }
    },
    {
      "cell_type": "markdown",
      "source": [
        "Pie chart is the most easily understandable charts when trying to visualise data in percentages. It shows how the percentage of the types of customers who booked the hotels in a way where we can easily compare the different sub sets of data."
      ],
      "metadata": {
        "id": "XESiWehPqBRc"
      }
    },
    {
      "cell_type": "markdown",
      "source": [
        "##### 2. What is/are the insight(s) found from the chart?"
      ],
      "metadata": {
        "id": "lQ7QKXXCp7Bj"
      }
    },
    {
      "cell_type": "markdown",
      "source": [
        "From the chart we can see that Transient customers take about 75% of bookings while Transient-Party takes another 21%. It shows that most of the bookings are temporary and might not be repeat customers. And it shows that the hotels might also be located in or near tourist destinations or along the highway where repeat customers are not that common."
      ],
      "metadata": {
        "id": "C_j1G7yiqdRP"
      }
    },
    {
      "cell_type": "markdown",
      "source": [
        "##### 3. Will the gained insights help creating a positive business impact?\n",
        "Are there any insights that lead to negative growth? Justify with specific reason."
      ],
      "metadata": {
        "id": "448CDAPjqfQr"
      }
    },
    {
      "cell_type": "markdown",
      "source": [
        "While the majority of the bookings were transient customers, it does not have to be a bad thing. The hotel can use the data and feedback to provide better care for the customers so that the reviews left by them can attract many customers, even if they're transient ones."
      ],
      "metadata": {
        "id": "3cspy4FjqxJW"
      }
    },
    {
      "cell_type": "markdown",
      "source": [
        "#### Chart - 2"
      ],
      "metadata": {
        "id": "KSlN3yHqYklG"
      }
    },
    {
      "cell_type": "code",
      "source": [
        "# Chart - 2 visualization code\n",
        "\n",
        "# Getting the dataframe ready for the next chart\n",
        "canceled = dataframe[dataframe['is_canceled'] == 1].groupby('deposit_type')['deposit_type'].value_counts()\n",
        "not_canceled = dataframe[dataframe['is_canceled'] == 0].groupby('deposit_type')['deposit_type'].value_counts()\n",
        "\n",
        "# Creating subplots for better visualisation\n",
        "fig, ( [sub1,sub2] )  =  plt.subplots(1,2,sharex = True)\n",
        "\n",
        "sub1.barh(y = canceled.index, width = canceled)\n",
        "sub2.barh(y = not_canceled.index, width = not_canceled)\n",
        "sub2.set(yticklabels = [])\n",
        "\n",
        "sub1.set_xlabel('Count')\n",
        "sub2.set_xlabel('Count')\n",
        "\n",
        "# Setting mini titles and major one.\n",
        "sub1.set_title('Canceled Bookings')\n",
        "sub2.set_title('Not so canceled bookings')\n",
        "\n",
        "fig.suptitle('Cancellation data based on deposit',fontsize = 16)\n",
        "\n",
        "fig.figsize = [10,6]"
      ],
      "metadata": {
        "id": "R4YgtaqtYklH"
      },
      "execution_count": null,
      "outputs": []
    },
    {
      "cell_type": "markdown",
      "source": [
        "##### 1. Why did you pick the specific chart?"
      ],
      "metadata": {
        "id": "t6dVpIINYklI"
      }
    },
    {
      "cell_type": "markdown",
      "source": [
        "Bar chart are handy while comparing 2 sets of data which are not complicated. Here we have shown the cancellation data, whether the booking was canceled or not, and which deposit types had more cancellations."
      ],
      "metadata": {
        "id": "5aaW0BYyYklI"
      }
    },
    {
      "cell_type": "markdown",
      "source": [
        "##### 2. What is/are the insight(s) found from the chart?"
      ],
      "metadata": {
        "id": "ijmpgYnKYklI"
      }
    },
    {
      "cell_type": "markdown",
      "source": [
        "Thanks to the sheer volume of data available for booking, the cancellation clearly shows that bookings made with no deposit were being canceled about 25% of the time, and for some reason the non-refundable bookings were canceled a large amount as well."
      ],
      "metadata": {
        "id": "PSx9atu2YklI"
      }
    },
    {
      "cell_type": "markdown",
      "source": [
        "##### 3. Will the gained insights help creating a positive business impact?\n",
        "\n",
        "Since the amount of cancellations the hotel is receiving for no-deposit type of bookings is nearly a quarter of the total bookings, the hotel can use the info to try to make some plans so that many of these cancellations are avoided."
      ],
      "metadata": {
        "id": "-JiQyfWJYklI"
      }
    },
    {
      "cell_type": "markdown",
      "source": [
        "Answer Here"
      ],
      "metadata": {
        "id": "BcBbebzrYklV"
      }
    },
    {
      "cell_type": "markdown",
      "source": [
        "#### Chart - 3"
      ],
      "metadata": {
        "id": "EM7whBJCYoAo"
      }
    },
    {
      "cell_type": "code",
      "source": [
        "# Chart - 3 visualization code\n",
        "\n",
        "months = ['January', 'February', 'March', 'April', 'May', 'June', 'July', 'August', 'September',\n",
        "          'October', 'November', 'December']\n",
        "\n",
        "# Readying the dataset\n",
        "canceled = dataframe[dataframe['is_canceled'] == 1]['arrival_date_month'].value_counts().reindex(months)\n",
        "not_canceled = dataframe[dataframe['is_canceled'] == 0]['arrival_date_month'].value_counts().reindex(months)\n",
        "\n",
        "# Preparing the chart\n",
        "plt.figure(figsize = (15,6))\n",
        "sns.lineplot(canceled, label = 'Canceled')\n",
        "sns.lineplot(not_canceled, label = 'Not canceled')\n",
        "\n",
        "# Yay, labels\n",
        "plt.xlabel('Months of the Year')\n",
        "plt.ylabel('Number of occurances')\n",
        "plt.title('Cancellation status over the months')\n",
        "plt.show()"
      ],
      "metadata": {
        "id": "t6GMdE67YoAp"
      },
      "execution_count": null,
      "outputs": []
    },
    {
      "cell_type": "markdown",
      "source": [
        "##### 1. Why did you pick the specific chart?"
      ],
      "metadata": {
        "id": "fge-S5ZAYoAp"
      }
    },
    {
      "cell_type": "markdown",
      "source": [
        "Line charts are great for showing data over time. So to see how the cancellation and lack thereof were in the data, we can plot the data in line chart."
      ],
      "metadata": {
        "id": "5dBItgRVYoAp"
      }
    },
    {
      "cell_type": "markdown",
      "source": [
        "##### 2. What is/are the insight(s) found from the chart?"
      ],
      "metadata": {
        "id": "85gYPyotYoAp"
      }
    },
    {
      "cell_type": "markdown",
      "source": [
        "From the chart you can see that the bookings are low in the months of January, November, and December so you can see that the cancellation statuses are also showing a dip in the data.\n",
        "\n",
        "Also, You can see the rise in bookings in months of July and August.Thanks to the higher bookings, these months also have higher cancellation rate than the others as well.\n",
        "\n"
      ],
      "metadata": {
        "id": "4jstXR6OYoAp"
      }
    },
    {
      "cell_type": "markdown",
      "source": [
        "##### 3. Will the gained insights help creating a positive business impact?\n",
        "Are there any insights that lead to negative growth? Justify with specific reason."
      ],
      "metadata": {
        "id": "RoGjAbkUYoAp"
      }
    },
    {
      "cell_type": "markdown",
      "source": [
        "Based on these data, the hotels can work out a plan to get more bookings in their downtime or give vacation time to their staff or any other productive means to improve their clientele.In other hand, they can hire more temporary workers on the busy months to help them handle the high flow of numbers.\n",
        "\n",
        "This will help the organisation directly and indirectly improve the quality of services offered."
      ],
      "metadata": {
        "id": "zfJ8IqMcYoAp"
      }
    },
    {
      "cell_type": "markdown",
      "source": [
        "#### Chart - 4"
      ],
      "metadata": {
        "id": "4Of9eVA-YrdM"
      }
    },
    {
      "cell_type": "code",
      "source": [
        "# Chart - 4 visualization code\n",
        "\n",
        "Country = dataframe[dataframe['is_canceled'] == 0]['country'].value_counts().head()\n",
        "\n",
        "# Calculating what the percentage the rest of the customers make up\n",
        "Country.loc['Others'] = dataframe[dataframe['is_canceled'] == 0]['country'].value_counts().sum() - Country.sum()\n",
        "\n",
        "plt.pie(Country, autopct=\"%1.1f%%\", labels = Country.index)\n",
        "plt.title('Top 5 Countries to book the hotels')\n",
        "plt.show()"
      ],
      "metadata": {
        "id": "irlUoxc8YrdO"
      },
      "execution_count": null,
      "outputs": []
    },
    {
      "cell_type": "markdown",
      "source": [
        "##### 1. Why did you pick the specific chart?"
      ],
      "metadata": {
        "id": "iky9q4vBYrdO"
      }
    },
    {
      "cell_type": "markdown",
      "source": [
        "As discussed before, pie chart works better to show the percentage of the data involved. So, to show the percentage of the Countries the people are from, pie chart is the best one to do it."
      ],
      "metadata": {
        "id": "aJRCwT6DYrdO"
      }
    },
    {
      "cell_type": "markdown",
      "source": [
        "##### 2. What is/are the insight(s) found from the chart?"
      ],
      "metadata": {
        "id": "F6T5p64dYrdO"
      }
    },
    {
      "cell_type": "markdown",
      "source": [
        "With PRT - Portugal, GRB - Great Britian, FRA - France, ESP - Spain, DEU - Germany, these 5 countries seems to be the top 5, where the people are from and book the hotels. While every countries other than the top 5 has a total of 30% bookings, Portugal itself has about 28% booking total. This is for the non-canceled bookings."
      ],
      "metadata": {
        "id": "Xx8WAJvtYrdO"
      }
    },
    {
      "cell_type": "markdown",
      "source": [
        "##### 3. Will the gained insights help creating a positive business impact?\n",
        "Are there any insights that lead to negative growth? Justify with specific reason."
      ],
      "metadata": {
        "id": "y-Ehk30pYrdP"
      }
    },
    {
      "cell_type": "markdown",
      "source": [
        "Thanks to the graph here, the hotels can try to include things like traditional foods of these countries, adding features people from these countries would like to enjoy, etc, to make sure that the stay of their customers are enjoyed to ensure good reviews and possibly repeated visits."
      ],
      "metadata": {
        "id": "jLNxxz7MYrdP"
      }
    },
    {
      "cell_type": "markdown",
      "source": [
        "#### Chart - 5"
      ],
      "metadata": {
        "id": "bamQiAODYuh1"
      }
    },
    {
      "cell_type": "code",
      "source": [
        "# Chart - 5 visualization code\n",
        "\n",
        "# Bar chart to see how many bookings were canceled and how many were not\n",
        "sns.countplot(data = dataframe[dataframe['booking_changes'] < 5],\n",
        "              x = 'booking_changes',\n",
        "              hue='is_canceled' )\n",
        "\n",
        "plt.xlabel('Changes requested before canceled')\n",
        "plt.title('Cancellation and Booking changes')\n",
        "plt.show()"
      ],
      "metadata": {
        "id": "TIJwrbroYuh3"
      },
      "execution_count": null,
      "outputs": []
    },
    {
      "cell_type": "markdown",
      "source": [
        "##### 1. Why did you pick the specific chart?"
      ],
      "metadata": {
        "id": "QHF8YVU7Yuh3"
      }
    },
    {
      "cell_type": "markdown",
      "source": [
        "In these bar charts it is easier to compare 2 values under the same category. You can see both the canceled and not_canceled numbers being shown side by  side, which can help us come to a better understanding of the relations."
      ],
      "metadata": {
        "id": "dcxuIMRPYuh3"
      }
    },
    {
      "cell_type": "markdown",
      "source": [
        "##### 2. What is/are the insight(s) found from the chart?"
      ],
      "metadata": {
        "id": "GwzvFGzlYuh3"
      }
    },
    {
      "cell_type": "markdown",
      "source": [
        "Even with no changes were requested, there are still many cancellations recorded. And with the ones with changes requsted, there is a considerably lesser percentage of cancellation. We can assume from this that if we provide the option of special requests or changes that could be arranged for customer's stay, maybe the cancellation requests may stop."
      ],
      "metadata": {
        "id": "uyqkiB8YYuh3"
      }
    },
    {
      "cell_type": "markdown",
      "source": [
        "##### 3. Will the gained insights help creating a positive business impact?\n",
        "\n",
        "\n",
        "With the insight learned in this chart, we can offer customers the option to enter the things they might want to find in their room for their stay, and if they're in the reasonable means, hotels can help customers get better fun staying with them. Also, for customers to learn that their request was atleast considered makes them feel valuable and might reconsider cancelling the booking, and might be willing to talk a compromise where both the customer and the hotel wins."
      ],
      "metadata": {
        "id": "qYpmQ266Yuh3"
      }
    },
    {
      "cell_type": "markdown",
      "source": [
        "#### Chart - 6"
      ],
      "metadata": {
        "id": "OH-pJp9IphqM"
      }
    },
    {
      "cell_type": "code",
      "source": [
        "# Chart - 6 visualization code\n",
        "\n",
        "sns.countplot(x = 'adults', hue = 'hotel', data = dataframe[dataframe['adults'] < 5])\n",
        "plt.xlabel('Number of Adults')\n",
        "plt.ylabel('Count')\n",
        "plt.title('Number of adults booked the rooms')"
      ],
      "metadata": {
        "id": "kuRf4wtuphqN"
      },
      "execution_count": null,
      "outputs": []
    },
    {
      "cell_type": "markdown",
      "source": [
        "##### 1. Why did you pick the specific chart?"
      ],
      "metadata": {
        "id": "bbFf2-_FphqN"
      }
    },
    {
      "cell_type": "markdown",
      "source": [
        "I had to compare the results from 2 similar data, and as discussed before bar chart is more useful that way. Used seaborn to actually label the chart without having to type in additional data."
      ],
      "metadata": {
        "id": "loh7H2nzphqN"
      }
    },
    {
      "cell_type": "markdown",
      "source": [
        "##### 2. What is/are the insight(s) found from the chart?"
      ],
      "metadata": {
        "id": "_ouA3fa0phqN"
      }
    },
    {
      "cell_type": "markdown",
      "source": [
        "Adults traveling as couples booked the most, and the city hotel has always seen more booking than that of the resort hotel."
      ],
      "metadata": {
        "id": "VECbqPI7phqN"
      }
    },
    {
      "cell_type": "markdown",
      "source": [
        "##### 3. Will the gained insights help creating a positive business impact?\n",
        "Are there any insights that lead to negative growth? Justify with specific reason."
      ],
      "metadata": {
        "id": "Seke61FWphqN"
      }
    },
    {
      "cell_type": "markdown",
      "source": [
        "From the observation, we can conclude or at least assume that the hotels are booked by couples the most, and common sense would suggest that they would be on vacation.\n",
        "\n",
        "By using those assumptions, if the hotels try to create some events that most couples might enjoy, then the hotel might get some repeated customers, or at least will get some positive feedback."
      ],
      "metadata": {
        "id": "DW4_bGpfphqN"
      }
    },
    {
      "cell_type": "markdown",
      "source": [
        "#### Chart - 7"
      ],
      "metadata": {
        "id": "PIIx-8_IphqN"
      }
    },
    {
      "cell_type": "code",
      "source": [
        "# Chart - 7 visualization code\n",
        "\n",
        "\n",
        "plt.figure(figsize=(20,8))\n",
        "plt.xticks(rotation = 90)\n",
        "\n",
        "# Getting the data and plotting them based on market segments\n",
        "sns.countplot(x = 'market_segment', hue = 'arrival_date_year', data = dataframe)\n",
        "\n",
        "plt.xlabel('Market Segments')\n",
        "plt.ylabel('Count')\n",
        "plt.title('Market segments over the years')\n",
        "\n"
      ],
      "metadata": {
        "id": "lqAIGUfyphqO"
      },
      "execution_count": null,
      "outputs": []
    },
    {
      "cell_type": "markdown",
      "source": [
        "##### 1. Why did you pick the specific chart?"
      ],
      "metadata": {
        "id": "t27r6nlMphqO"
      }
    },
    {
      "cell_type": "markdown",
      "source": [
        "With market segments being compared over the same booking counts, it is recommended that we use bar gragh. We are using Seaborn here to better piece the chart together so it can be read easily."
      ],
      "metadata": {
        "id": "iv6ro40sphqO"
      }
    },
    {
      "cell_type": "markdown",
      "source": [
        "##### 2. What is/are the insight(s) found from the chart?"
      ],
      "metadata": {
        "id": "r2jJGEOYphqO"
      }
    },
    {
      "cell_type": "markdown",
      "source": [
        "Over the years, it looks like the online travel agents were the ones contributing the most towards booking the hotels. Also, we learn that the year 2016 has the most bookings of all 3 years, but maybe it might be because not all months of 2015 and 2017 were added."
      ],
      "metadata": {
        "id": "Po6ZPi4hphqO"
      }
    },
    {
      "cell_type": "markdown",
      "source": [
        "##### 3. Will the gained insights help creating a positive business impact?\n",
        "Are there any insights that lead to negative growth? Justify with specific reason."
      ],
      "metadata": {
        "id": "b0JNsNcRphqO"
      }
    },
    {
      "cell_type": "markdown",
      "source": [
        "We learn that online travel agency helps the most with the bookings. So, hotels could use more similar online agencies or create websites to handle their own bookings or any other form of advertisements they can do to attract customers that way. It would be helpful for them to pursue other means as well, and try to get those numbers up as well."
      ],
      "metadata": {
        "id": "xvSq8iUTphqO"
      }
    },
    {
      "cell_type": "markdown",
      "source": [
        "# **Conclusion**"
      ],
      "metadata": {
        "id": "gCX9965dhzqZ"
      }
    },
    {
      "cell_type": "markdown",
      "source": [
        "In conclusion, we learn that the hotel bookings, largely done in the months of July, August. And if we assume these to be the summer vacation holiday bookings that couples book to travel with their children, then the hotels can use the information to better prepare for the services they can provide.\n",
        "\n",
        "Also armed with the knowledge about where the most of the customers are coming from, whether they're staying temporarily or not (we learned that most were transient customers), whether they're couple or single, etc,. the hotel can hire new help to better manage the higher volumes whenever needed, or give their staff some vacation time on downtimes so that they can cool off and come back to work fully charged.\n",
        "\n",
        "Some observations made, to wrap it up are:\n",
        "\n",
        "\n",
        "\n",
        "1.  Most customers booking the hotels are transient customers.\n",
        "2.  July and August shows most bookings.\n",
        "3.  November to January shows the least.\n",
        "4.  In corporate bookings, the cancellation percentage is comparatively lower\n",
        "5.  Repeated transient customer numbers are at about 40%\n",
        "6.  There alarming number of cancellation when there was non-refundable deposit is involved.\n",
        "7.  Highest number of people are from Portugal at a whopping 28%.\n",
        "8.  When zero changes were made, there is high possibility of it getting canceled.\n",
        "9.  Couples are the most people booking these hotels\n",
        "10. People prefer the City Hotel more that the resort one.\n",
        "11. Online TA contributes more towards bookings for the hotels.\n",
        "\n",
        "\n"
      ],
      "metadata": {
        "id": "Fjb1IsQkh3yE"
      }
    },
    {
      "cell_type": "markdown",
      "source": [
        "### ***Hurrah! You have successfully completed your Machine Learning Capstone Project !!!***"
      ],
      "metadata": {
        "id": "gIfDvo9L0UH2"
      }
    }
  ]
}